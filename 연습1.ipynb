{
  "nbformat": 4,
  "nbformat_minor": 0,
  "metadata": {
    "colab": {
      "name": "연습1.ipynb",
      "provenance": [],
      "authorship_tag": "ABX9TyMAy6V/EYWcfug2hfvEbxww",
      "include_colab_link": true
    },
    "kernelspec": {
      "name": "python3",
      "display_name": "Python 3"
    },
    "language_info": {
      "name": "python"
    },
    "accelerator": "GPU"
  },
  "cells": [
    {
      "cell_type": "markdown",
      "metadata": {
        "id": "view-in-github",
        "colab_type": "text"
      },
      "source": [
        "<a href=\"https://colab.research.google.com/github/zcvpal2/Aiffel-follow-deep-learning/blob/main/%EC%97%B0%EC%8A%B51.ipynb\" target=\"_parent\"><img src=\"https://colab.research.google.com/assets/colab-badge.svg\" alt=\"Open In Colab\"/></a>"
      ]
    },
    {
      "cell_type": "code",
      "execution_count": 1,
      "metadata": {
        "colab": {
          "base_uri": "https://localhost:8080/"
        },
        "id": "SUbVBKEB2Zoi",
        "outputId": "1fb71cde-2b4a-4ff7-8e2e-47e19c77b38b"
      },
      "outputs": [
        {
          "output_type": "stream",
          "name": "stdout",
          "text": [
            "2.8.0\n"
          ]
        }
      ],
      "source": [
        "import tensorflow as tf\n",
        "import tensorflow as keras\n",
        "\n",
        "import numpy as np \n",
        "import matplotlib.pyplot as plt\n",
        "import os \n",
        "\n",
        "print(tf.__version__)"
      ]
    },
    {
      "cell_type": "code",
      "source": [
        "mnist = tf.keras.datasets.mnist\n",
        "\n",
        "(x_train, y_train),(x_test, y_test) = mnist.load_data()\n",
        "print(len(x_train))"
      ],
      "metadata": {
        "colab": {
          "base_uri": "https://localhost:8080/"
        },
        "id": "Py9S8Eqs2tJH",
        "outputId": "61f8bee0-82fb-436f-842d-38811d424022"
      },
      "execution_count": 4,
      "outputs": [
        {
          "output_type": "stream",
          "name": "stdout",
          "text": [
            "Downloading data from https://storage.googleapis.com/tensorflow/tf-keras-datasets/mnist.npz\n",
            "11493376/11490434 [==============================] - 0s 0us/step\n",
            "11501568/11490434 [==============================] - 0s 0us/step\n",
            "60000\n"
          ]
        }
      ]
    },
    {
      "cell_type": "code",
      "source": [
        "plt.imshow(x_train[1], cmap=plt.cm.binary)\n",
        "plt.show()"
      ],
      "metadata": {
        "colab": {
          "base_uri": "https://localhost:8080/",
          "height": 265
        },
        "id": "zJmWBONe3AvF",
        "outputId": "a5249664-898f-408f-8d36-05ee831ba048"
      },
      "execution_count": 6,
      "outputs": [
        {
          "output_type": "display_data",
          "data": {
            "text/plain": [
              "<Figure size 432x288 with 1 Axes>"
            ],
            "image/png": "[encoded data removed]"
          },
          "metadata": {
            "needs_background": "light"
          }
        }
      ]
    },
    {
      "cell_type": "code",
      "source": [
        "print(y_train[1])"
      ],
      "metadata": {
        "colab": {
          "base_uri": "https://localhost:8080/"
        },
        "id": "BKL2TVeu4A_7",
        "outputId": "adc26570-0e18-4dd5-f38a-43bc9a7e01e5"
      },
      "execution_count": 7,
      "outputs": [
        {
          "output_type": "stream",
          "name": "stdout",
          "text": [
            "0\n"
          ]
        }
      ]
    },
    {
      "cell_type": "markdown",
      "source": [
        "### 이미지에 대응하는 실제 숫자 값이 담겨 있다"
      ],
      "metadata": {
        "id": "JZurDRDV5fwd"
      }
    },
    {
      "cell_type": "code",
      "source": [
        "index = 1993\n",
        "plt.imshow(x_train[index], cmap = plt.cm.binary)\n",
        "plt.show()\n",
        "print((index+1), '번째 이미지의 숫자는 바로', y_train[index], '입니다')"
      ],
      "metadata": {
        "colab": {
          "base_uri": "https://localhost:8080/",
          "height": 283
        },
        "id": "WwNOXj835e0L",
        "outputId": "9cee396e-fb37-4648-d6a6-590be75796f6"
      },
      "execution_count": 9,
      "outputs": [
        {
          "output_type": "display_data",
          "data": {
            "text/plain": [
              "<Figure size 432x288 with 1 Axes>"
            ],
            "image/png": "[encoded data removed]"
          },
          "metadata": {
            "needs_background": "light"
          }
        },
        {
          "output_type": "stream",
          "name": "stdout",
          "text": [
            "1994 번째 이미지의 숫자는 바로 5 입니다\n"
          ]
        }
      ]
    },
    {
      "cell_type": "code",
      "source": [
        ""
      ],
      "metadata": {
        "id": "DUAqoN0052cj"
      },
      "execution_count": null,
      "outputs": []
    },
    {
      "cell_type": "markdown",
      "source": [
        "### 학습용 데이터의 수 파악"
      ],
      "metadata": {
        "id": "P7I2b7Uf6ECk"
      }
    },
    {
      "cell_type": "code",
      "source": [
        "print(x_train.shape, \"(몇장,크기,크기)\")\n",
        "print(x_test.shape, \"(몇장,크기,크기)\")"
      ],
      "metadata": {
        "colab": {
          "base_uri": "https://localhost:8080/"
        },
        "id": "u8p3ToOl6Fsx",
        "outputId": "23f87318-5f56-4b6b-a05b-2e51e3ab3f98"
      },
      "execution_count": 10,
      "outputs": [
        {
          "output_type": "stream",
          "name": "stdout",
          "text": [
            "(60000, 28, 28) (몇장,크기,크기)\n",
            "(10000, 28, 28) (몇장,크기,크기)\n"
          ]
        }
      ]
    },
    {
      "cell_type": "markdown",
      "source": [
        "\n",
        "\n",
        "*   train_set = 학습을 위한 데이터, 각기 다른 모델(hidden layer, hyper parameter)을 서로 다른 epoch로 학습    \n",
        "*   validation_set = 학습이 완료된 모델을 검증하기 위한 데이터 set   \n",
        "* test_set = 학습과 검증이 완료된 모델의 성능을 평가하기 위한 dataset \n",
        "* 6대 2대 2로 나뉜다\n",
        "\n",
        "* validation_set, test_set의 공통점은 데이터를 통해 모델을 학습시키지 않는다는 것이고 차이점은 validation은 학습에 관여는 한다는 점, test는 성능 평가에 사용된다는 점이다"
      ],
      "metadata": {
        "id": "KhbKxbYx6o1E"
      }
    },
    {
      "cell_type": "markdown",
      "source": [
        "\n",
        "\n",
        "*   validation을 사용하는 이유: 적절한 epoch를 찾아 overfitting이 발생하지 않게 학습 시켜야 하고, 동시에 learning rate와 hidden layer를 조정해가며 오버피팅에 빠지지 않고, unseen data에 대해서도 좋은 성능을 가질 수 있도록 해야\n",
        "\n"
      ],
      "metadata": {
        "id": "KzI5jj-P7y9a"
      }
    },
    {
      "cell_type": "code",
      "source": [
        "print(\"최소값:\", np.min(x_train), '최대값: ', np.max(x_train)) ### 픽셀 값의 최소와 최대"
      ],
      "metadata": {
        "colab": {
          "base_uri": "https://localhost:8080/"
        },
        "id": "slFmy1cj6ZU_",
        "outputId": "00a2f17d-b9cc-4c4d-a890-b4bbb9830a2b"
      },
      "execution_count": 12,
      "outputs": [
        {
          "output_type": "stream",
          "name": "stdout",
          "text": [
            "최소값: 0 최대값:  255\n"
          ]
        }
      ]
    },
    {
      "cell_type": "markdown",
      "source": [
        "\n",
        "\n",
        "* 위와 같은 방법으로 데이터의 픽셀 값이 최대가 몇이고 최소가 몇인지 확인한 뒤에, 데이터를 최대값으로 나눠줘, 최소값이 0 최대값이 1이 되게 만들어 준다\n",
        "\n",
        "\n",
        "*   테스트 데이터에도 똑같이 적용해줘야 한다.\n",
        "\n",
        "\n",
        "\n",
        "\n"
      ],
      "metadata": {
        "id": "ZSlO_V2d9z_1"
      }
    },
    {
      "cell_type": "code",
      "source": [
        "x_train_norm, x_test_norm = x_train / 255.0, x_test / 255.0\n",
        "print('최소값:',np.min(x_train_norm), ' 최대값:',np.max(x_train_norm))"
      ],
      "metadata": {
        "colab": {
          "base_uri": "https://localhost:8080/"
        },
        "id": "Yqyuhyvp9r3g",
        "outputId": "f27bf9ff-16c2-4c63-fedc-938576e36880"
      },
      "execution_count": 13,
      "outputs": [
        {
          "output_type": "stream",
          "name": "stdout",
          "text": [
            "최소값: 0.0  최대값: 1.0\n"
          ]
        }
      ]
    },
    {
      "cell_type": "code",
      "source": [
        ""
      ],
      "metadata": {
        "id": "G31ZeO52-NEA"
      },
      "execution_count": null,
      "outputs": []
    },
    {
      "cell_type": "markdown",
      "source": [
        "# Sequential Model 사용"
      ],
      "metadata": {
        "id": "fvcICktH-XWU"
      }
    },
    {
      "cell_type": "markdown",
      "source": [
        "tf.keras의 Sequential API를 이용하여 LeNet 네트워크를 설계"
      ],
      "metadata": {
        "id": "Bi3OGCsm-iI6"
      }
    },
    {
      "cell_type": "code",
      "source": [
        "model = tf.keras.models.Sequential()\n",
        "model.add(tf.keras.layers.Conv2D(16,(3,3), activation = 'relu', input_shape=(28,28,1)))\n",
        "model.add(tf.keras.layers.MaxPool2D(2,2))\n",
        "model.add(tf.keras.layers.Conv2D(32,(3,3),activation = 'relu'))\n",
        "model.add(tf.keras.layers.MaxPooling2D((2,2)))\n",
        "model.add(tf.keras.layers.Flatten())\n",
        "model.add(tf.keras.layers.Dense(32, activation = 'relu'))\n",
        "model.add(tf.keras.layers.Dense(10, activation = 'softmax'))\n",
        "\n",
        "print('Model에 추가된 Layer 개수: ', len(model.layers))"
      ],
      "metadata": {
        "colab": {
          "base_uri": "https://localhost:8080/"
        },
        "id": "UpWTbWQL-ZoR",
        "outputId": "2504f2c1-d801-4174-b742-3831d347d077"
      },
      "execution_count": 16,
      "outputs": [
        {
          "output_type": "stream",
          "name": "stdout",
          "text": [
            "Model에 추가된 Layer 개수:  7\n"
          ]
        }
      ]
    },
    {
      "cell_type": "markdown",
      "source": [
        "\n",
        "\n",
        "*   Conv2D의 첫번째 인자는 사용하는 이미지 특징의 수로, 처음은 16개의 이미지 특징을 뒤의 32개는 32개의 이미지 특징을 고려한다는 것을 말하는데, 훨씬 디테일하고 복잡한 이미지의 경우 이 숫자를 늘리는 것을 고려해 볼 만 하다.\n",
        "*   Dense 레이어의 경우 분류기를 의미하며 값이 클수록 복잡한 분류기를 만들어, 클래스가 많을 수록 이 수를 늘리는 것이 좋고, 마지막 Dense 레이어 에서만 결과를 위한 클래스 수를 지정하면 된다. 숫자면 10개(0,1,2,3,4,5,6,7,8,9 으로 이루어져 있으니까) 이렇게 말이다\n",
        "\n"
      ],
      "metadata": {
        "id": "c9hSTStkAWjI"
      }
    },
    {
      "cell_type": "code",
      "source": [
        "model.summary() # 만든 딥러닝 네트워크 모델 확인"
      ],
      "metadata": {
        "colab": {
          "base_uri": "https://localhost:8080/"
        },
        "id": "OycnxG9__frN",
        "outputId": "acfbf2e8-6644-43a9-eea9-ab7299bf4115"
      },
      "execution_count": 17,
      "outputs": [
        {
          "output_type": "stream",
          "name": "stdout",
          "text": [
            "Model: \"sequential_1\"\n",
            "_________________________________________________________________\n",
            " Layer (type)                Output Shape              Param #   \n",
            "=================================================================\n",
            " conv2d (Conv2D)             (None, 26, 26, 16)        160       \n",
            "                                                                 \n",
            " max_pooling2d (MaxPooling2D  (None, 13, 13, 16)       0         \n",
            " )                                                               \n",
            "                                                                 \n",
            " conv2d_1 (Conv2D)           (None, 11, 11, 32)        4640      \n",
            "                                                                 \n",
            " max_pooling2d_1 (MaxPooling  (None, 5, 5, 32)         0         \n",
            " 2D)                                                             \n",
            "                                                                 \n",
            " flatten (Flatten)           (None, 800)               0         \n",
            "                                                                 \n",
            " dense (Dense)               (None, 32)                25632     \n",
            "                                                                 \n",
            " dense_1 (Dense)             (None, 10)                330       \n",
            "                                                                 \n",
            "=================================================================\n",
            "Total params: 30,762\n",
            "Trainable params: 30,762\n",
            "Non-trainable params: 0\n",
            "_________________________________________________________________\n"
          ]
        }
      ]
    },
    {
      "cell_type": "code",
      "source": [
        ""
      ],
      "metadata": {
        "id": "l671lBGGBNVe"
      },
      "execution_count": null,
      "outputs": []
    }
  ]
}