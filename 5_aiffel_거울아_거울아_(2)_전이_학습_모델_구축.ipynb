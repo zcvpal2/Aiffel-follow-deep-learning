{
  "nbformat": 4,
  "nbformat_minor": 0,
  "metadata": {
    "colab": {
      "name": "5. aiffel 거울아 거울아 (2) 전이 학습 모델 구축.ipynb",
      "provenance": [],
      "mount_file_id": "1pzNcSCXjt-TpgR6BRmDwygypKaS3unQc",
      "authorship_tag": "ABX9TyNSItP26sRRGas7idz59kcP",
      "include_colab_link": true
    },
    "kernelspec": {
      "name": "python3",
      "display_name": "Python 3"
    },
    "language_info": {
      "name": "python"
    },
    "accelerator": "GPU"
  },
  "cells": [
    {
      "cell_type": "markdown",
      "metadata": {
        "id": "view-in-github",
        "colab_type": "text"
      },
      "source": [
        "<a href=\"https://colab.research.google.com/github/zcvpal2/Aiffel-follow-deep-learning/blob/main/5_aiffel_%EA%B1%B0%EC%9A%B8%EC%95%84_%EA%B1%B0%EC%9A%B8%EC%95%84_(2)_%EC%A0%84%EC%9D%B4_%ED%95%99%EC%8A%B5_%EB%AA%A8%EB%8D%B8_%EA%B5%AC%EC%B6%95.ipynb\" target=\"_parent\"><img src=\"https://colab.research.google.com/assets/colab-badge.svg\" alt=\"Open In Colab\"/></a>"
      ]
    },
    {
      "cell_type": "code",
      "source": [
        "import tensorflow as tf\n",
        "import tensorflow_datasets as tfds \n",
        "from tensorflow.keras.models import Sequential\n",
        "from tensorflow.keras.layers import Dense, Conv2D, Flatten, MaxPooling2D\n",
        "\n",
        "dataset = 'cats_vs_dogs'\n",
        "DATA_DIR = '/content/drive/MyDrive/AIFFEL'\n",
        "setattr(tfds.image_classification.cats_vs_dogs, '_URL',\"https://download.microsoft.com/download/3/E/1/3E1C3F21-ECDB-4869-8368-6DEBA77B919F/kagglecatsanddogs_5340.zip\")\n",
        "(raw_train, raw_validation, raw_test), metadata = tfds.load(\n",
        "    dataset,\n",
        "    split=['train[:80%]', 'train[80%:90%]', 'train[90%:]'],\n",
        "    data_dir=DATA_DIR,  \n",
        "    with_info=True,\n",
        "    download = False,\n",
        "    as_supervised=True,)\n",
        "\n",
        "IMG_SIZE = 160 \n",
        "\n",
        "def format_example(image, label):\n",
        "  image = tf.cast(image, tf.float32)\n",
        "  image = (image/127.5) - 1\n",
        "  image = tf.image.resize(image,(IMG_SIZE,IMG_SIZE))\n",
        "  return image,label  \n",
        "\n",
        "train = raw_train.map(format_example)\n",
        "validation = raw_validation.map(format_example)\n",
        "test = raw_test.map(format_example) \n",
        "\n",
        "BATCH_SIZE = 32 \n",
        "SHUFFLE = 1000 \n",
        "\n",
        "train_batches = train.shuffle(SHUFFLE).batch(BATCH_SIZE)\n",
        "validation_batches = validation.batch(BATCH_SIZE) \n",
        "test_batches = test.batch(BATCH_SIZE)\n",
        "\n",
        "for image_batch, label_batch in train_batches.take(1):\n",
        "  pass"
      ],
      "metadata": {
        "id": "5eTfOaQp9cUJ"
      },
      "execution_count": 7,
      "outputs": []
    },
    {
      "cell_type": "code",
      "source": [
        "## VGG 모델 불러오는데 output에 가까운 3개의 FC layer는 제외하기 위해\n",
        "## include_top =False 해야 \n",
        "\n",
        "IMG_SHAPE = (IMG_SIZE, IMG_SIZE,3)\n",
        "\n",
        "base_model = tf.keras.applications.VGG16(input_shape = IMG_SHAPE,\n",
        "                                         include_top = False,\n",
        "                                         weights = 'imagenet')"
      ],
      "metadata": {
        "colab": {
          "base_uri": "https://localhost:8080/"
        },
        "id": "JzYeX4ar97jI",
        "outputId": "009debf2-f6ca-4105-d131-011ad9474dbe"
      },
      "execution_count": 9,
      "outputs": [
        {
          "output_type": "stream",
          "name": "stdout",
          "text": [
            "Downloading data from https://storage.googleapis.com/tensorflow/keras-applications/vgg16/vgg16_weights_tf_dim_ordering_tf_kernels_notop.h5\n",
            "58892288/58889256 [==============================] - 0s 0us/step\n",
            "58900480/58889256 [==============================] - 0s 0us/step\n"
          ]
        }
      ]
    },
    {
      "cell_type": "code",
      "source": [
        "## base_model에 배치를 넣으면 어떻게 변할지 보면\n",
        "feature_batch = base_model(image_batch)\n",
        "feature_batch.shape"
      ],
      "metadata": {
        "colab": {
          "base_uri": "https://localhost:8080/"
        },
        "id": "ILKqxRR-HB-h",
        "outputId": "ef39ee29-2115-49ab-8bca-89e2089be860"
      },
      "execution_count": 10,
      "outputs": [
        {
          "output_type": "execute_result",
          "data": {
            "text/plain": [
              "TensorShape([32, 5, 5, 512])"
            ]
          },
          "metadata": {},
          "execution_count": 10
        }
      ]
    },
    {
      "cell_type": "code",
      "source": [
        "#기존의 이미지는\n",
        "image_batch.shape"
      ],
      "metadata": {
        "colab": {
          "base_uri": "https://localhost:8080/"
        },
        "id": "2Go199gXIqsE",
        "outputId": "d64d4687-8118-4aaf-a4f8-ab4ddaf7727d"
      },
      "execution_count": 11,
      "outputs": [
        {
          "output_type": "execute_result",
          "data": {
            "text/plain": [
              "TensorShape([32, 160, 160, 3])"
            ]
          },
          "metadata": {},
          "execution_count": 11
        }
      ]
    },
    {
      "cell_type": "code",
      "source": [
        "# base 모델에 넣은 이미지를 보면 height, width 작아지고, channel은 512로 늘어났다.\n",
        "# 이렇게 모델에 이미지를 넣어 특징을 추출한 결과를 특징벡터라고 한다."
      ],
      "metadata": {
        "id": "6JwUl0iEI0lC"
      },
      "execution_count": 12,
      "outputs": []
    },
    {
      "cell_type": "code",
      "source": [
        "base_model.summary()"
      ],
      "metadata": {
        "colab": {
          "base_uri": "https://localhost:8080/"
        },
        "id": "ZY8MTvvCJb6D",
        "outputId": "73c82b48-71b1-4adb-c608-76eb98a479bd"
      },
      "execution_count": 13,
      "outputs": [
        {
          "output_type": "stream",
          "name": "stdout",
          "text": [
            "Model: \"vgg16\"\n",
            "_________________________________________________________________\n",
            " Layer (type)                Output Shape              Param #   \n",
            "=================================================================\n",
            " input_1 (InputLayer)        [(None, 160, 160, 3)]     0         \n",
            "                                                                 \n",
            " block1_conv1 (Conv2D)       (None, 160, 160, 64)      1792      \n",
            "                                                                 \n",
            " block1_conv2 (Conv2D)       (None, 160, 160, 64)      36928     \n",
            "                                                                 \n",
            " block1_pool (MaxPooling2D)  (None, 80, 80, 64)        0         \n",
            "                                                                 \n",
            " block2_conv1 (Conv2D)       (None, 80, 80, 128)       73856     \n",
            "                                                                 \n",
            " block2_conv2 (Conv2D)       (None, 80, 80, 128)       147584    \n",
            "                                                                 \n",
            " block2_pool (MaxPooling2D)  (None, 40, 40, 128)       0         \n",
            "                                                                 \n",
            " block3_conv1 (Conv2D)       (None, 40, 40, 256)       295168    \n",
            "                                                                 \n",
            " block3_conv2 (Conv2D)       (None, 40, 40, 256)       590080    \n",
            "                                                                 \n",
            " block3_conv3 (Conv2D)       (None, 40, 40, 256)       590080    \n",
            "                                                                 \n",
            " block3_pool (MaxPooling2D)  (None, 20, 20, 256)       0         \n",
            "                                                                 \n",
            " block4_conv1 (Conv2D)       (None, 20, 20, 512)       1180160   \n",
            "                                                                 \n",
            " block4_conv2 (Conv2D)       (None, 20, 20, 512)       2359808   \n",
            "                                                                 \n",
            " block4_conv3 (Conv2D)       (None, 20, 20, 512)       2359808   \n",
            "                                                                 \n",
            " block4_pool (MaxPooling2D)  (None, 10, 10, 512)       0         \n",
            "                                                                 \n",
            " block5_conv1 (Conv2D)       (None, 10, 10, 512)       2359808   \n",
            "                                                                 \n",
            " block5_conv2 (Conv2D)       (None, 10, 10, 512)       2359808   \n",
            "                                                                 \n",
            " block5_conv3 (Conv2D)       (None, 10, 10, 512)       2359808   \n",
            "                                                                 \n",
            " block5_pool (MaxPooling2D)  (None, 5, 5, 512)         0         \n",
            "                                                                 \n",
            "=================================================================\n",
            "Total params: 14,714,688\n",
            "Trainable params: 14,714,688\n",
            "Non-trainable params: 0\n",
            "_________________________________________________________________\n"
          ]
        }
      ]
    },
    {
      "cell_type": "code",
      "source": [
        "## VGG16 classifier 레이어를 원하는 분류 모델 생성\n",
        "\n",
        "## 분류모델로 만들기 위해선 Fully connected 레이어로 구성\n",
        "## 이를 위해서는 반드시 1차원이어야 한다. Flatten \n",
        "## 또 다른 방법으로는 Global Average Pooling : 평균값을 활용해 벡터의 차원을 줄이기\n",
        "# (Height * Width * Depth) >> Global Average Pooling >> (1*1*Depth)"
      ],
      "metadata": {
        "id": "gW4x97eIJjQA"
      },
      "execution_count": 14,
      "outputs": []
    },
    {
      "cell_type": "code",
      "source": [
        "global_average_layer = tf.keras.layers.GlobalAveragePooling2D()\n",
        "feature_batch_average = global_average_layer(feature_batch)\n",
        "print(feature_batch_average.shape)"
      ],
      "metadata": {
        "colab": {
          "base_uri": "https://localhost:8080/"
        },
        "id": "nNlUakVxL0dH",
        "outputId": "e3e3a8ea-92bb-4af9-c5f7-c87b7cc16cb9"
      },
      "execution_count": 16,
      "outputs": [
        {
          "output_type": "stream",
          "name": "stdout",
          "text": [
            "(32, 512)\n"
          ]
        }
      ]
    },
    {
      "cell_type": "code",
      "source": [
        "## 마지막으로 분류 모델 생성\n",
        "dense_layer = tf.keras.layers.Dense(512, activation ='relu')\n",
        "prediction_layer = tf.keras.layers.Dense(2, activation='softmax')"
      ],
      "metadata": {
        "id": "hOqccnPjMYFe"
      },
      "execution_count": 17,
      "outputs": []
    },
    {
      "cell_type": "code",
      "source": [
        "## feature_batch_average가 dense_layer로\n",
        "# dense_layer가 prediction_layer로\n",
        "\n",
        "prediction_batch = prediction_layer(dense_layer(feature_batch_average))\n",
        "print(prediction_batch.shape)"
      ],
      "metadata": {
        "colab": {
          "base_uri": "https://localhost:8080/"
        },
        "id": "uKvCoIuUM6nM",
        "outputId": "d06c308e-1d25-4a5f-d311-f57f7bbed0a4"
      },
      "execution_count": 18,
      "outputs": [
        {
          "output_type": "stream",
          "name": "stdout",
          "text": [
            "(32, 2)\n"
          ]
        }
      ]
    },
    {
      "cell_type": "code",
      "source": [
        "### 이렇게 원하는 모델을 형성하였고\n",
        "## vgg16에 해당하는 base_model은 학습시키지 않을것이기 때문에\n",
        "# trainable을 False로\n",
        "base_model.trainable = False\n"
      ],
      "metadata": {
        "id": "eozuXMH8NR_j"
      },
      "execution_count": 19,
      "outputs": []
    },
    {
      "cell_type": "code",
      "source": [
        "model = tf.keras.Sequential([\n",
        "    base_model, ## vgg16\n",
        "    global_average_layer, ## flatten 대신 GlobalAveragePooling2D\n",
        "    dense_layer, \n",
        "    prediction_layer ## 고양이인지 개인지 맞추기 위해 이중분류\n",
        "])"
      ],
      "metadata": {
        "id": "TWlnM6SGNsgL"
      },
      "execution_count": 20,
      "outputs": []
    },
    {
      "cell_type": "code",
      "source": [
        "model.summary()"
      ],
      "metadata": {
        "colab": {
          "base_uri": "https://localhost:8080/"
        },
        "id": "O0cFbHXLORKc",
        "outputId": "4d7f5ef4-24b9-4634-fcbf-5bd0f455d413"
      },
      "execution_count": 21,
      "outputs": [
        {
          "output_type": "stream",
          "name": "stdout",
          "text": [
            "Model: \"sequential\"\n",
            "_________________________________________________________________\n",
            " Layer (type)                Output Shape              Param #   \n",
            "=================================================================\n",
            " vgg16 (Functional)          (None, 5, 5, 512)         14714688  \n",
            "                                                                 \n",
            " global_average_pooling2d (G  (None, 512)              0         \n",
            " lobalAveragePooling2D)                                          \n",
            "                                                                 \n",
            " dense (Dense)               (None, 512)               262656    \n",
            "                                                                 \n",
            " dense_1 (Dense)             (None, 2)                 1026      \n",
            "                                                                 \n",
            "=================================================================\n",
            "Total params: 14,978,370\n",
            "Trainable params: 263,682\n",
            "Non-trainable params: 14,714,688\n",
            "_________________________________________________________________\n"
          ]
        }
      ]
    },
    {
      "cell_type": "code",
      "source": [
        ""
      ],
      "metadata": {
        "id": "5vViqp40OUIH"
      },
      "execution_count": null,
      "outputs": []
    }
  ]
}